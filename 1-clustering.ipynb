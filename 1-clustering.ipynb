{
 "cells": [
  {
   "cell_type": "code",
   "execution_count": 1,
   "id": "cee53d79-6715-4423-bcd2-76a2ad0f5c08",
   "metadata": {},
   "outputs": [],
   "source": [
    "import pandas as pd\n",
    "from sklearn.cluster import KMeans\n",
    "from sklearn.metrics import silhouette_score\n",
    "\n",
    "%matplotlib inline\n",
    "import matplotlib.pyplot as plt"
   ]
  },
  {
   "cell_type": "code",
   "execution_count": 2,
   "id": "32ed9c90-f532-410a-a1dc-3b8d695b1215",
   "metadata": {},
   "outputs": [],
   "source": [
    "df = pd.read_csv('Student Depression Dataset.csv')\n",
    "df = df.dropna()\n",
    "df = df.drop(columns=['id', 'City', 'Work Pressure', 'Job Satisfaction', 'Profession', 'Degree'])\n",
    "\n",
    "df_input = df.drop('Depression', axis=1)\n",
    "df_input = pd.get_dummies(df_input)\n",
    "# df_input.head()"
   ]
  },
  {
   "cell_type": "code",
   "execution_count": 3,
   "id": "7e4ea78b-b12c-4575-9289-6047f7d12891",
   "metadata": {},
   "outputs": [
    {
     "data": {
      "text/html": [
       "<div>\n",
       "<style scoped>\n",
       "    .dataframe tbody tr th:only-of-type {\n",
       "        vertical-align: middle;\n",
       "    }\n",
       "\n",
       "    .dataframe tbody tr th {\n",
       "        vertical-align: top;\n",
       "    }\n",
       "\n",
       "    .dataframe thead th {\n",
       "        text-align: right;\n",
       "    }\n",
       "</style>\n",
       "<table border=\"1\" class=\"dataframe\">\n",
       "  <thead>\n",
       "    <tr style=\"text-align: right;\">\n",
       "      <th></th>\n",
       "      <th>Gender</th>\n",
       "      <th>Age</th>\n",
       "      <th>Academic Pressure</th>\n",
       "      <th>CGPA</th>\n",
       "      <th>Study Satisfaction</th>\n",
       "      <th>Sleep Duration</th>\n",
       "      <th>Dietary Habits</th>\n",
       "      <th>Have you ever had suicidal thoughts ?</th>\n",
       "      <th>Work/Study Hours</th>\n",
       "      <th>Financial Stress</th>\n",
       "      <th>Family History of Mental Illness</th>\n",
       "      <th>Depression</th>\n",
       "      <th>Cluster</th>\n",
       "    </tr>\n",
       "  </thead>\n",
       "  <tbody>\n",
       "    <tr>\n",
       "      <th>0</th>\n",
       "      <td>Male</td>\n",
       "      <td>33.0</td>\n",
       "      <td>5.0</td>\n",
       "      <td>8.97</td>\n",
       "      <td>2.0</td>\n",
       "      <td>5-6 hours</td>\n",
       "      <td>Healthy</td>\n",
       "      <td>Yes</td>\n",
       "      <td>3.0</td>\n",
       "      <td>1.0</td>\n",
       "      <td>No</td>\n",
       "      <td>1</td>\n",
       "      <td>1</td>\n",
       "    </tr>\n",
       "    <tr>\n",
       "      <th>1</th>\n",
       "      <td>Female</td>\n",
       "      <td>24.0</td>\n",
       "      <td>2.0</td>\n",
       "      <td>5.90</td>\n",
       "      <td>5.0</td>\n",
       "      <td>5-6 hours</td>\n",
       "      <td>Moderate</td>\n",
       "      <td>No</td>\n",
       "      <td>3.0</td>\n",
       "      <td>2.0</td>\n",
       "      <td>Yes</td>\n",
       "      <td>0</td>\n",
       "      <td>0</td>\n",
       "    </tr>\n",
       "    <tr>\n",
       "      <th>2</th>\n",
       "      <td>Male</td>\n",
       "      <td>31.0</td>\n",
       "      <td>3.0</td>\n",
       "      <td>7.03</td>\n",
       "      <td>5.0</td>\n",
       "      <td>Less than 5 hours</td>\n",
       "      <td>Healthy</td>\n",
       "      <td>No</td>\n",
       "      <td>9.0</td>\n",
       "      <td>1.0</td>\n",
       "      <td>Yes</td>\n",
       "      <td>0</td>\n",
       "      <td>1</td>\n",
       "    </tr>\n",
       "    <tr>\n",
       "      <th>3</th>\n",
       "      <td>Female</td>\n",
       "      <td>28.0</td>\n",
       "      <td>3.0</td>\n",
       "      <td>5.59</td>\n",
       "      <td>2.0</td>\n",
       "      <td>7-8 hours</td>\n",
       "      <td>Moderate</td>\n",
       "      <td>Yes</td>\n",
       "      <td>4.0</td>\n",
       "      <td>5.0</td>\n",
       "      <td>Yes</td>\n",
       "      <td>1</td>\n",
       "      <td>1</td>\n",
       "    </tr>\n",
       "    <tr>\n",
       "      <th>4</th>\n",
       "      <td>Female</td>\n",
       "      <td>25.0</td>\n",
       "      <td>4.0</td>\n",
       "      <td>8.13</td>\n",
       "      <td>3.0</td>\n",
       "      <td>5-6 hours</td>\n",
       "      <td>Moderate</td>\n",
       "      <td>Yes</td>\n",
       "      <td>1.0</td>\n",
       "      <td>1.0</td>\n",
       "      <td>No</td>\n",
       "      <td>0</td>\n",
       "      <td>0</td>\n",
       "    </tr>\n",
       "  </tbody>\n",
       "</table>\n",
       "</div>"
      ],
      "text/plain": [
       "   Gender   Age  Academic Pressure  CGPA  Study Satisfaction  \\\n",
       "0    Male  33.0                5.0  8.97                 2.0   \n",
       "1  Female  24.0                2.0  5.90                 5.0   \n",
       "2    Male  31.0                3.0  7.03                 5.0   \n",
       "3  Female  28.0                3.0  5.59                 2.0   \n",
       "4  Female  25.0                4.0  8.13                 3.0   \n",
       "\n",
       "      Sleep Duration Dietary Habits Have you ever had suicidal thoughts ?  \\\n",
       "0          5-6 hours        Healthy                                   Yes   \n",
       "1          5-6 hours       Moderate                                    No   \n",
       "2  Less than 5 hours        Healthy                                    No   \n",
       "3          7-8 hours       Moderate                                   Yes   \n",
       "4          5-6 hours       Moderate                                   Yes   \n",
       "\n",
       "   Work/Study Hours  Financial Stress Family History of Mental Illness  \\\n",
       "0               3.0               1.0                               No   \n",
       "1               3.0               2.0                              Yes   \n",
       "2               9.0               1.0                              Yes   \n",
       "3               4.0               5.0                              Yes   \n",
       "4               1.0               1.0                               No   \n",
       "\n",
       "   Depression  Cluster  \n",
       "0           1        1  \n",
       "1           0        0  \n",
       "2           0        1  \n",
       "3           1        1  \n",
       "4           0        0  "
      ]
     },
     "execution_count": 3,
     "metadata": {},
     "output_type": "execute_result"
    }
   ],
   "source": [
    "kmeans = KMeans(n_clusters=2, random_state=0).fit(df_input)\n",
    "\n",
    "df['Cluster'] = kmeans.labels_\n",
    "# df.to_csv('Student Depression Dataset with Cluster.csv', index=False)\n",
    "\n",
    "df.head()"
   ]
  },
  {
   "cell_type": "code",
   "execution_count": 4,
   "id": "a079a921-519f-4d55-a68b-cfff9065a41e",
   "metadata": {},
   "outputs": [
    {
     "name": "stdout",
     "output_type": "stream",
     "text": [
      "Silhouette Score: 0.311273976727732\n"
     ]
    }
   ],
   "source": [
    "sil_score = silhouette_score(df_input, kmeans.labels_)\n",
    "print(f\"Silhouette Score: {sil_score}\")"
   ]
  },
  {
   "cell_type": "code",
   "execution_count": 5,
   "id": "199c3313-faa8-499b-9e28-0408cf6df914",
   "metadata": {},
   "outputs": [
    {
     "name": "stdout",
     "output_type": "stream",
     "text": [
      "Number of Clusters: 2, Silhouette Score: 0.311273976727732\n",
      "Number of Clusters: 3, Silhouette Score: 0.2818019092160289\n",
      "Number of Clusters: 4, Silhouette Score: 0.25260110874141456\n",
      "Number of Clusters: 5, Silhouette Score: 0.22227478657347927\n",
      "Number of Clusters: 6, Silhouette Score: 0.1991224162866804\n",
      "Number of Clusters: 7, Silhouette Score: 0.17595413543053484\n",
      "Number of Clusters: 8, Silhouette Score: 0.16703687678442927\n",
      "Number of Clusters: 9, Silhouette Score: 0.15814007396138333\n",
      "Number of Clusters: 10, Silhouette Score: 0.1516988870820173\n"
     ]
    }
   ],
   "source": [
    "n_clusters_max = 10\n",
    "silhouette_scores = []\n",
    "\n",
    "for n_clusters in range(2, n_clusters_max + 1):\n",
    "    kmeans = KMeans(n_clusters=n_clusters, random_state=0).fit(df_input)\n",
    "    score = silhouette_score(df_input, kmeans.labels_)\n",
    "    silhouette_scores.append((n_clusters, score))\n",
    "    print(f\"Number of Clusters: {n_clusters}, Silhouette Score: {score}\")"
   ]
  },
  {
   "cell_type": "code",
   "execution_count": 6,
   "id": "fb93a0b7-544b-4686-8a3e-cbf205cc276d",
   "metadata": {},
   "outputs": [
    {
     "data": {
      "image/png": "[encoded data removed]",
      "text/plain": [
       "<Figure size 640x480 with 1 Axes>"
      ]
     },
     "metadata": {},
     "output_type": "display_data"
    }
   ],
   "source": [
    "clusters, scores = zip(*silhouette_scores)\n",
    "plt.plot(clusters, scores, marker='o')\n",
    "plt.xlabel('Number of Clusters')\n",
    "plt.ylabel('Silhouette Score')\n",
    "plt.title('Silhouette Scores for Different Numbers of Clusters')\n",
    "plt.grid(True)\n",
    "plt.show()"
   ]
  }
 ],
 "metadata": {
  "kernelspec": {
   "display_name": "Python 3 (ipykernel)",
   "language": "python",
   "name": "python3"
  },
  "language_info": {
   "codemirror_mode": {
    "name": "ipython",
    "version": 3
   },
   "file_extension": ".py",
   "mimetype": "text/x-python",
   "name": "python",
   "nbconvert_exporter": "python",
   "pygments_lexer": "ipython3",
   "version": "3.10.16"
  }
 },
 "nbformat": 4,
 "nbformat_minor": 5
}
